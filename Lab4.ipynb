{
 "cells": [
  {
   "cell_type": "code",
   "execution_count": 1,
   "metadata": {},
   "outputs": [],
   "source": [
    "import numpy as np"
   ]
  },
  {
   "cell_type": "code",
   "execution_count": 2,
   "metadata": {},
   "outputs": [],
   "source": [
    "def thin_lens(position,image_position):\n",
    "    #Solve for focal length\n",
    "    x = (1/position) + (1/image_position)\n",
    "    f = 1/x\n",
    "    return f"
   ]
  },
  {
   "cell_type": "code",
   "execution_count": 3,
   "metadata": {},
   "outputs": [],
   "source": [
    "def spherometer(b,h):\n",
    "    R = ((b**2)/(2*h))+(h/2)\n",
    "    return R"
   ]
  },
  {
   "cell_type": "code",
   "execution_count": 10,
   "metadata": {},
   "outputs": [],
   "source": [
    "def lens_maker(focal_length,R1):\n",
    "    n = (R1/focal_length)+1\n",
    "    return n\n",
    "def lens2(n,R1):\n",
    "    f = R1/(n-1)\n",
    "    return f"
   ]
  },
  {
   "cell_type": "code",
   "execution_count": 14,
   "metadata": {},
   "outputs": [
    {
     "name": "stdout",
     "output_type": "stream",
     "text": [
      "16.44776119402985\n"
     ]
    },
    {
     "data": {
      "text/plain": [
       "151.06174286667778"
      ]
     },
     "execution_count": 14,
     "metadata": {},
     "output_type": "execute_result"
    }
   ],
   "source": [
    "#part a\n",
    "h1 = .922\n",
    "IR = 12\n",
    "r = spherometer(IR,h1)\n",
    "#in mm\n",
    "#print(r)\n",
    "im = 29\n",
    "obj = 38\n",
    "print(thin_lens(obj,im))\n",
    "n = 1.52\n",
    "lens2(n,r)\n",
    "#in mm"
   ]
  },
  {
   "cell_type": "code",
   "execution_count": 15,
   "metadata": {},
   "outputs": [],
   "source": [
    "#B\n",
    "im_ap = 49"
   ]
  },
  {
   "cell_type": "code",
   "execution_count": 16,
   "metadata": {},
   "outputs": [],
   "source": [
    "#c\n",
    "s1 = 34.9\n",
    "r1 = 6.68\n",
    "\n",
    "r2 = 1.39\n",
    "s2 = 53.2\n",
    "\n",
    "r3 = 3.78\n",
    "s3 = 47.6\n",
    "\n",
    "r4 = 5.72\n",
    "s4 = 42.7\n",
    "\n",
    "r5 = 4.72\n",
    "s5 = 46.9\n",
    "\n",
    "r6 = 2.56\n",
    "s6 = 51.8"
   ]
  },
  {
   "cell_type": "code",
   "execution_count": 17,
   "metadata": {},
   "outputs": [],
   "source": [
    "#d\n",
    "def p(i,o):\n",
    "    p = (i-o)/(i+o)\n",
    "    return p\n",
    "oe = 1\n",
    "def s(n,p,o):\n",
    "    s = (1/(8*n*(n-1)))*(((n+2)/(n-1))+4*(n+1)*p+(3*n+2)*(n-1)*p**2 +(n**3)/(n-1))\n",
    "    return s"
   ]
  },
  {
   "cell_type": "code",
   "execution_count": 18,
   "metadata": {},
   "outputs": [],
   "source": [
    "def shift(s,h,f):\n",
    "    shift = s*(h**2)/(f**3)\n",
    "    return shift"
   ]
  },
  {
   "cell_type": "code",
   "execution_count": 45,
   "metadata": {},
   "outputs": [
    {
     "data": {
      "text/plain": [
       "(0, 0.01)"
      ]
     },
     "execution_count": 45,
     "metadata": {},
     "output_type": "execute_result"
    },
    {
     "data": {
      "image/png": "[encoded data removed]",
      "text/plain": [
       "<Figure size 432x288 with 1 Axes>"
      ]
     },
     "metadata": {
      "needs_background": "light"
     },
     "output_type": "display_data"
    }
   ],
   "source": [
    "import matplotlib.pyplot as plt\n",
    "p1 = p(49,20.5)\n",
    "#s1 = s(1.52,p1,1)\n",
    "s = 2.88286\n",
    "\n",
    "shift0 = shift(s,0,16.4)\n",
    "shift1 = shift(s,r1/2,16.4)\n",
    "shift2 = shift(s,r2/2,16.4)\n",
    "shift3 = shift(s,r3/2,16.4)\n",
    "shift4 = shift(s,r4/2,16.4)\n",
    "shift5 = shift(s,r5/2,16.4)\n",
    "shift6 = shift(s,r6/2,16.4)\n",
    "shifts = [shift0,shift1,shift2,shift3,shift4,shift5,shift6]\n",
    "hs = [0,r1/2,r2/2,r3/2,r4/2,r5/2,r6/2]\n",
    "plt.scatter(hs,shifts)\n",
    "plt.show\n",
    "plt.ylim(0,.01)"
   ]
  },
  {
   "cell_type": "code",
   "execution_count": 50,
   "metadata": {},
   "outputs": [
    {
     "name": "stdout",
     "output_type": "stream",
     "text": [
      "0.5095693779904307\n"
     ]
    },
    {
     "data": {
      "text/plain": [
       "(0, 0.01)"
      ]
     },
     "execution_count": 50,
     "metadata": {},
     "output_type": "execute_result"
    },
    {
     "data": {
      "image/png": "[encoded data removed]",
      "text/plain": [
       "<Figure size 432x288 with 1 Axes>"
      ]
     },
     "metadata": {
      "needs_background": "light"
     },
     "output_type": "display_data"
    }
   ],
   "source": [
    "#e\n",
    "im_aperature_flipped = 63.1\n",
    "p2 = p(63.1,20.5)\n",
    "s2 = 1.4659\n",
    "print(p2)\n",
    "s1_flip = 35.9\n",
    "s2_flip = 81.4\n",
    "s3_flip = 66.0\n",
    "s4_flip = 48.4\n",
    "s5_flip = 54.8\n",
    "s6_flip = 74.4\n",
    "\n",
    "shift0 = shift(s2,0,16.4)\n",
    "shift1 = shift(s2,r1/2,16.4)\n",
    "shift2 = shift(s2,r2/2,16.4)\n",
    "shift3 = shift(s2,r3/2,16.4)\n",
    "shift4 = shift(s2,r4/2,16.4)\n",
    "shift5 = shift(s2,r5/2,16.4)\n",
    "shift6 = shift(s2,r6/2,16.4)\n",
    "shifts = [shift0,shift1,shift2,shift3,shift4,shift5,shift6]\n",
    "hs = [0,r1/2,r2/2,r3/2,r4/2,r5/2,r6/2]\n",
    "plt.scatter(hs,shifts)\n",
    "plt.show\n",
    "plt.ylim(0,.01)"
   ]
  },
  {
   "cell_type": "code",
   "execution_count": 60,
   "metadata": {},
   "outputs": [
    {
     "name": "stdout",
     "output_type": "stream",
     "text": [
      "[ 16.31424303  16.3016983   16.11783107  15.97144397  15.86659316]\n"
     ]
    },
    {
     "data": {
      "text/plain": [
       "(0.06, 0.064)"
      ]
     },
     "execution_count": 60,
     "metadata": {},
     "output_type": "execute_result"
    },
    {
     "data": {
      "image/png": "[encoded data removed]",
      "text/plain": [
       "<Figure size 432x288 with 1 Axes>"
      ]
     },
     "metadata": {
      "needs_background": "light"
     },
     "output_type": "display_data"
    }
   ],
   "source": [
    "#g\n",
    "import numpy as np\n",
    "red_d = 79.9\n",
    "yellow_d = 79.6\n",
    "red_n = 1.5145\n",
    "yellow_n = 1.5172\n",
    "green_d = 75.4\n",
    "green_n = 1.5196\n",
    "cyan_d = 72.3\n",
    "cyan_n = 1.5240\n",
    "blue_d = 70.2\n",
    "blue_n = 1.5265\n",
    "\n",
    "redf = thin_lens(20.5,red_d)\n",
    "yellowf = thin_lens(20.5,yellow_d)\n",
    "greenf = thin_lens(20.5,green_d)\n",
    "cyanf = thin_lens(20.5,cyan_d)\n",
    "bluef = thin_lens(20.5,blue_d)\n",
    "\n",
    "fcolors = np.array([redf,yellowf,greenf,cyanf,bluef])\n",
    "print(fcolors)\n",
    "ncolors = np.array([red_n,yellow_n,green_n,cyan_n,blue_n])\n",
    "plt.scatter(ncolors,(1/fcolors))\n",
    "plt.xlim(1.51,1.53)\n",
    "plt.ylim(.06,.064)"
   ]
  },
  {
   "cell_type": "code",
   "execution_count": null,
   "metadata": {},
   "outputs": [],
   "source": []
  }
 ],
 "metadata": {
  "kernelspec": {
   "display_name": "Python 3",
   "language": "python",
   "name": "python3"
  },
  "language_info": {
   "codemirror_mode": {
    "name": "ipython",
    "version": 3
   },
   "file_extension": ".py",
   "mimetype": "text/x-python",
   "name": "python",
   "nbconvert_exporter": "python",
   "pygments_lexer": "ipython3",
   "version": "3.7.0"
  }
 },
 "nbformat": 4,
 "nbformat_minor": 2
}
